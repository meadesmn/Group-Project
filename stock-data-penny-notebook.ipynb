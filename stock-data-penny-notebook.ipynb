{
 "cells": [
  {
   "cell_type": "code",
   "execution_count": 40,
   "id": "1cda081e",
   "metadata": {},
   "outputs": [],
   "source": [
    "# Import necessary libraries and modules\n",
    "import pandas as pd\n",
    "import datetime as dt \n",
    "import yfinance as yf\n",
    "import json\n",
    "from requests import Session\n",
    "import requests\n",
    "from requests_cache import CacheMixin, SQLiteCache\n",
    "from requests_ratelimiter import LimiterMixin, MemoryQueueBucket\n",
    "from pyrate_limiter import Duration, RequestRate, Limiter\n",
    "class CachedLimiterSession(CacheMixin, LimiterMixin, Session):\n",
    "    pass\n",
    "import requests_cache"
   ]
  },
  {
   "cell_type": "markdown",
   "id": "d2664a73",
   "metadata": {},
   "source": [
    "### GET STOCK DATA"
   ]
  },
  {
   "cell_type": "code",
   "execution_count": 10,
   "id": "b7b99623",
   "metadata": {},
   "outputs": [],
   "source": [
    "# Session Limiter for the API call to Yahoo Finance to prevent timing out during function call\n",
    "session = CachedLimiterSession(\n",
    "    limiter=Limiter(RequestRate(2, Duration.SECOND*5)),  #max 2 requests per 5 seconds\n",
    "    bucket_class=MemoryQueueBucket,\n",
    "    backend=SQLiteCache(\"yfinance.cache\"),\n",
    ")"
   ]
  },
  {
   "cell_type": "code",
   "execution_count": 71,
   "id": "de96b228",
   "metadata": {},
   "outputs": [],
   "source": [
    "# Current list of Standard & Poor 500 companies from Wikipedia: \n",
    "sp500_companies = pd.read_csv(\"/Users/rosario/Code/CodeOp/Group-Project/sp500_companies.csv\")"
   ]
  },
  {
   "cell_type": "code",
   "execution_count": 11,
   "id": "e887c2ad",
   "metadata": {},
   "outputs": [],
   "source": [
    "# Function to scrape the historical data including Adjusted Closing Price from Yahoo finance\n",
    "# Return a data frame with Date as the index\n",
    "\n",
    "def get_ticker_history(df, period=\" \"):\n",
    "    ticker_data = {}\n",
    "    \n",
    "    # Iterate through each row of the DataFrame\n",
    "    for index, row in df.iterrows():\n",
    "        ticker = row['Symbol'] \n",
    "        print(\"Fetching data for ticker:\", ticker)  # Print the ticker being processed\n",
    "        # Fetch historical data for the ticker\n",
    "        history_data = yf.download(tickers=ticker, period=period)\n",
    "        # Add the ticker symbol as a feature in the historical data DataFrame\n",
    "        history_data['Symbol'] = ticker\n",
    "        # Store the historical data in the dictionary\n",
    "        ticker_data[ticker] = history_data\n",
    "        \n",
    "    # Concatenate historical data for all tickers into a single DataFrame\n",
    "    combined_data = pd.concat(ticker_data.values())\n",
    "    combined_data.index.name = 'Date'  # Set the name of the index to 'Date'\n",
    "    \n",
    "    return combined_data"
   ]
  },
  {
   "cell_type": "code",
   "execution_count": null,
   "id": "48a3c46a",
   "metadata": {},
   "outputs": [],
   "source": [
    "# Run the function to call the API and start the data scraping\n",
    "sp500_history = get_ticker_history(sp500_companies, period=\"max\")"
   ]
  },
  {
   "cell_type": "code",
   "execution_count": 80,
   "id": "fef6dbaa",
   "metadata": {},
   "outputs": [
    {
     "name": "stdout",
     "output_type": "stream",
     "text": [
      "<class 'pandas.core.frame.DataFrame'>\n",
      "DatetimeIndex: 4224446 entries, 1962-01-02 to 2024-05-08\n",
      "Data columns (total 7 columns):\n",
      " #   Column     Dtype  \n",
      "---  ------     -----  \n",
      " 0   Open       float64\n",
      " 1   High       float64\n",
      " 2   Low        float64\n",
      " 3   Close      float64\n",
      " 4   Adj Close  float64\n",
      " 5   Volume     float64\n",
      " 6   Symbol     object \n",
      "dtypes: float64(6), object(1)\n",
      "memory usage: 257.8+ MB\n"
     ]
    }
   ],
   "source": [
    "# sp500_history has over 4 million rows\n",
    "sp500_history.info()"
   ]
  },
  {
   "cell_type": "code",
   "execution_count": 95,
   "id": "593a4bdf",
   "metadata": {},
   "outputs": [],
   "source": [
    "# Subset the data frame to the time frame of 10 years\n",
    "# Rename the data frame from sp500_history to sp500_adj_df\n",
    "sp500_adj_df = sp500_history.loc['2014-04-01':'2024-04-30']"
   ]
  },
  {
   "cell_type": "code",
   "execution_count": 120,
   "id": "415aa937",
   "metadata": {},
   "outputs": [],
   "source": [
    "# Save to CSV to share with the team\n",
    "sp500_adj_df.to_csv('sp500_adj_df.csv', index=True)"
   ]
  },
  {
   "cell_type": "code",
   "execution_count": 4,
   "id": "e06bfb97",
   "metadata": {},
   "outputs": [],
   "source": [
    "# Read CSV to start financial data EDA\n",
    "sp500_adj_df = pd.read_csv(\"/Users/rosario/Code/CodeOp/Group-Project/sp500_adj_df.csv\")"
   ]
  },
  {
   "cell_type": "code",
   "execution_count": 96,
   "id": "8db49242",
   "metadata": {},
   "outputs": [
    {
     "data": {
      "text/html": [
       "<div>\n",
       "<style scoped>\n",
       "    .dataframe tbody tr th:only-of-type {\n",
       "        vertical-align: middle;\n",
       "    }\n",
       "\n",
       "    .dataframe tbody tr th {\n",
       "        vertical-align: top;\n",
       "    }\n",
       "\n",
       "    .dataframe thead th {\n",
       "        text-align: right;\n",
       "    }\n",
       "</style>\n",
       "<table border=\"1\" class=\"dataframe\">\n",
       "  <thead>\n",
       "    <tr style=\"text-align: right;\">\n",
       "      <th></th>\n",
       "      <th>Open</th>\n",
       "      <th>High</th>\n",
       "      <th>Low</th>\n",
       "      <th>Close</th>\n",
       "      <th>Adj Close</th>\n",
       "      <th>Volume</th>\n",
       "      <th>Symbol</th>\n",
       "    </tr>\n",
       "    <tr>\n",
       "      <th>Date</th>\n",
       "      <th></th>\n",
       "      <th></th>\n",
       "      <th></th>\n",
       "      <th></th>\n",
       "      <th></th>\n",
       "      <th></th>\n",
       "      <th></th>\n",
       "    </tr>\n",
       "  </thead>\n",
       "  <tbody>\n",
       "    <tr>\n",
       "      <th>2014-04-01</th>\n",
       "      <td>113.612038</td>\n",
       "      <td>114.255852</td>\n",
       "      <td>113.436455</td>\n",
       "      <td>114.155518</td>\n",
       "      <td>76.269997</td>\n",
       "      <td>2835477.0</td>\n",
       "      <td>MMM</td>\n",
       "    </tr>\n",
       "    <tr>\n",
       "      <th>2014-04-02</th>\n",
       "      <td>113.704010</td>\n",
       "      <td>113.921402</td>\n",
       "      <td>113.152176</td>\n",
       "      <td>113.712372</td>\n",
       "      <td>75.973930</td>\n",
       "      <td>3924554.0</td>\n",
       "      <td>MMM</td>\n",
       "    </tr>\n",
       "    <tr>\n",
       "      <th>2014-04-03</th>\n",
       "      <td>113.896324</td>\n",
       "      <td>114.707359</td>\n",
       "      <td>113.461540</td>\n",
       "      <td>113.829430</td>\n",
       "      <td>76.052109</td>\n",
       "      <td>3200735.0</td>\n",
       "      <td>MMM</td>\n",
       "    </tr>\n",
       "    <tr>\n",
       "      <th>2014-04-04</th>\n",
       "      <td>114.464882</td>\n",
       "      <td>115.192307</td>\n",
       "      <td>113.520065</td>\n",
       "      <td>113.595322</td>\n",
       "      <td>75.895714</td>\n",
       "      <td>3271419.0</td>\n",
       "      <td>MMM</td>\n",
       "    </tr>\n",
       "    <tr>\n",
       "      <th>2014-04-07</th>\n",
       "      <td>113.553513</td>\n",
       "      <td>113.921402</td>\n",
       "      <td>112.366219</td>\n",
       "      <td>112.374580</td>\n",
       "      <td>75.080109</td>\n",
       "      <td>3357770.0</td>\n",
       "      <td>MMM</td>\n",
       "    </tr>\n",
       "  </tbody>\n",
       "</table>\n",
       "</div>"
      ],
      "text/plain": [
       "                  Open        High         Low       Close  Adj Close  \\\n",
       "Date                                                                    \n",
       "2014-04-01  113.612038  114.255852  113.436455  114.155518  76.269997   \n",
       "2014-04-02  113.704010  113.921402  113.152176  113.712372  75.973930   \n",
       "2014-04-03  113.896324  114.707359  113.461540  113.829430  76.052109   \n",
       "2014-04-04  114.464882  115.192307  113.520065  113.595322  75.895714   \n",
       "2014-04-07  113.553513  113.921402  112.366219  112.374580  75.080109   \n",
       "\n",
       "               Volume Symbol  \n",
       "Date                          \n",
       "2014-04-01  2835477.0    MMM  \n",
       "2014-04-02  3924554.0    MMM  \n",
       "2014-04-03  3200735.0    MMM  \n",
       "2014-04-04  3271419.0    MMM  \n",
       "2014-04-07  3357770.0    MMM  "
      ]
     },
     "execution_count": 96,
     "metadata": {},
     "output_type": "execute_result"
    }
   ],
   "source": [
    "sp500_adj_df.head()"
   ]
  },
  {
   "cell_type": "code",
   "execution_count": 101,
   "id": "af2fad55",
   "metadata": {},
   "outputs": [
    {
     "name": "stdout",
     "output_type": "stream",
     "text": [
      "<class 'pandas.core.frame.DataFrame'>\n",
      "DatetimeIndex: 1226702 entries, 2014-04-01 to 2024-03-28\n",
      "Data columns (total 7 columns):\n",
      " #   Column     Non-Null Count    Dtype  \n",
      "---  ------     --------------    -----  \n",
      " 0   Open       1226702 non-null  float64\n",
      " 1   High       1226702 non-null  float64\n",
      " 2   Low        1226702 non-null  float64\n",
      " 3   Close      1226702 non-null  float64\n",
      " 4   Adj Close  1226702 non-null  float64\n",
      " 5   Volume     1226702 non-null  float64\n",
      " 6   Symbol     1226702 non-null  object \n",
      "dtypes: float64(6), object(1)\n",
      "memory usage: 74.9+ MB\n"
     ]
    }
   ],
   "source": [
    "sp500_adj_df.info()"
   ]
  },
  {
   "cell_type": "code",
   "execution_count": 17,
   "id": "4ada36bb",
   "metadata": {},
   "outputs": [],
   "source": [
    "# Convert 'Date' column to datetime\n",
    "sp500_adj_df['Date'] = pd.to_datetime(sp500_adj_df['Date'])"
   ]
  },
  {
   "cell_type": "code",
   "execution_count": 26,
   "id": "23839d7a",
   "metadata": {},
   "outputs": [],
   "source": [
    "# Set 'Date' column as the index\n",
    "sp500_adj_df.set_index('Date', inplace=True)"
   ]
  },
  {
   "cell_type": "code",
   "execution_count": 103,
   "id": "6daae701",
   "metadata": {},
   "outputs": [
    {
     "data": {
      "text/plain": [
       "array(['MMM', 'AOS', 'ABT', 'ABBV', 'ACN', 'ADBE', 'AMD', 'AES', 'AFL',\n",
       "       'A', 'APD', 'ABNB', 'AKAM', 'ALB', 'ARE', 'ALGN', 'ALLE', 'LNT',\n",
       "       'ALL', 'GOOGL', 'GOOG', 'MO', 'AMZN', 'AMCR', 'AEE', 'AAL', 'AEP',\n",
       "       'AXP', 'AIG', 'AMT', 'AWK', 'AMP', 'AME', 'AMGN', 'APH', 'ADI',\n",
       "       'ANSS', 'AON', 'APA', 'AAPL', 'AMAT', 'APTV', 'ACGL', 'ADM',\n",
       "       'ANET', 'AJG', 'AIZ', 'T', 'ATO', 'ADSK', 'ADP', 'AZO', 'AVB',\n",
       "       'AVY', 'AXON', 'BKR', 'BALL', 'BAC', 'BK', 'BBWI', 'BAX', 'BDX',\n",
       "       'BBY', 'BIO', 'TECH', 'BIIB', 'BLK', 'BX', 'BA', 'BKNG', 'BWA',\n",
       "       'BXP', 'BSX', 'BMY', 'AVGO', 'BR', 'BRO', 'BLDR', 'BG', 'CDNS',\n",
       "       'CZR', 'CPT', 'CPB', 'COF', 'CAH', 'KMX', 'CCL', 'CARR', 'CTLT',\n",
       "       'CAT', 'CBOE', 'CBRE', 'CDW', 'CE', 'COR', 'CNC', 'CNP', 'CF',\n",
       "       'CHRW', 'CRL', 'SCHW', 'CHTR', 'CVX', 'CMG', 'CB', 'CHD', 'CI',\n",
       "       'CINF', 'CTAS', 'CSCO', 'C', 'CFG', 'CLX', 'CME', 'CMS', 'KO',\n",
       "       'CTSH', 'CL', 'CMCSA', 'CMA', 'CAG', 'COP', 'ED', 'STZ', 'CEG',\n",
       "       'COO', 'CPRT', 'GLW', 'CPAY', 'CTVA', 'CSGP', 'COST', 'CTRA',\n",
       "       'CCI', 'CSX', 'CMI', 'CVS', 'DHR', 'DRI', 'DVA', 'DAY', 'DECK',\n",
       "       'DE', 'DAL', 'DVN', 'DXCM', 'FANG', 'DLR', 'DFS', 'DG', 'DLTR',\n",
       "       'D', 'DPZ', 'DOV', 'DOW', 'DHI', 'DTE', 'DUK', 'DD', 'EMN', 'ETN',\n",
       "       'EBAY', 'ECL', 'EIX', 'EW', 'EA', 'ELV', 'LLY', 'EMR', 'ENPH',\n",
       "       'ETR', 'EOG', 'EPAM', 'EQT', 'EFX', 'EQIX', 'EQR', 'ESS', 'EL',\n",
       "       'ETSY', 'EG', 'EVRG', 'ES', 'EXC', 'EXPE', 'EXPD', 'EXR', 'XOM',\n",
       "       'FFIV', 'FDS', 'FICO', 'FAST', 'FRT', 'FDX', 'FIS', 'FITB', 'FSLR',\n",
       "       'FE', 'FI', 'FMC', 'F', 'FTNT', 'FTV', 'FOXA', 'FOX', 'BEN', 'FCX',\n",
       "       'GRMN', 'IT', 'GE', 'GEHC', 'GEN', 'GNRC', 'GD', 'GIS', 'GM',\n",
       "       'GPC', 'GILD', 'GPN', 'GL', 'GS', 'HAL', 'HIG', 'HAS', 'HCA',\n",
       "       'DOC', 'HSIC', 'HSY', 'HES', 'HPE', 'HLT', 'HOLX', 'HD', 'HON',\n",
       "       'HRL', 'HST', 'HWM', 'HPQ', 'HUBB', 'HUM', 'HBAN', 'HII', 'IBM',\n",
       "       'IEX', 'IDXX', 'ITW', 'ILMN', 'INCY', 'IR', 'PODD', 'INTC', 'ICE',\n",
       "       'IFF', 'IP', 'IPG', 'INTU', 'ISRG', 'IVZ', 'INVH', 'IQV', 'IRM',\n",
       "       'JBHT', 'JBL', 'JKHY', 'J', 'JNJ', 'JCI', 'JPM', 'JNPR', 'K',\n",
       "       'KVUE', 'KDP', 'KEY', 'KEYS', 'KMB', 'KIM', 'KMI', 'KLAC', 'KHC',\n",
       "       'KR', 'LHX', 'LH', 'LRCX', 'LW', 'LVS', 'LDOS', 'LEN', 'LIN',\n",
       "       'LYV', 'LKQ', 'LMT', 'L', 'LOW', 'LULU', 'LYB', 'MTB', 'MRO',\n",
       "       'MPC', 'MKTX', 'MAR', 'MMC', 'MLM', 'MAS', 'MA', 'MTCH', 'MKC',\n",
       "       'MCD', 'MCK', 'MDT', 'MRK', 'META', 'MET', 'MTD', 'MGM', 'MCHP',\n",
       "       'MU', 'MSFT', 'MAA', 'MRNA', 'MHK', 'MOH', 'TAP', 'MDLZ', 'MPWR',\n",
       "       'MNST', 'MCO', 'MS', 'MOS', 'MSI', 'MSCI', 'NDAQ', 'NTAP', 'NFLX',\n",
       "       'NEM', 'NWSA', 'NWS', 'NEE', 'NKE', 'NI', 'NDSN', 'NSC', 'NTRS',\n",
       "       'NOC', 'NCLH', 'NRG', 'NUE', 'NVDA', 'NVR', 'NXPI', 'ORLY', 'OXY',\n",
       "       'ODFL', 'OMC', 'ON', 'OKE', 'ORCL', 'OTIS', 'PCAR', 'PKG', 'PANW',\n",
       "       'PARA', 'PH', 'PAYX', 'PAYC', 'PYPL', 'PNR', 'PEP', 'PFE', 'PCG',\n",
       "       'PM', 'PSX', 'PNW', 'PXD', 'PNC', 'POOL', 'PPG', 'PPL', 'PFG',\n",
       "       'PG', 'PGR', 'PLD', 'PRU', 'PEG', 'PTC', 'PSA', 'PHM', 'QRVO',\n",
       "       'PWR', 'QCOM', 'DGX', 'RL', 'RJF', 'RTX', 'O', 'REG', 'REGN', 'RF',\n",
       "       'RSG', 'RMD', 'RVTY', 'RHI', 'ROK', 'ROL', 'ROP', 'ROST', 'RCL',\n",
       "       'SPGI', 'CRM', 'SBAC', 'SLB', 'STX', 'SRE', 'NOW', 'SHW', 'SPG',\n",
       "       'SWKS', 'SJM', 'SNA', 'SO', 'LUV', 'SWK', 'SBUX', 'STT', 'STLD',\n",
       "       'STE', 'SYK', 'SMCI', 'SYF', 'SNPS', 'SYY', 'TMUS', 'TROW', 'TTWO',\n",
       "       'TPR', 'TRGP', 'TGT', 'TEL', 'TDY', 'TFX', 'TER', 'TSLA', 'TXN',\n",
       "       'TXT', 'TMO', 'TJX', 'TSCO', 'TT', 'TDG', 'TRV', 'TRMB', 'TFC',\n",
       "       'TYL', 'TSN', 'USB', 'UBER', 'UDR', 'ULTA', 'UNP', 'UAL', 'UPS',\n",
       "       'URI', 'UNH', 'UHS', 'VLO', 'VTR', 'VLTO', 'VRSN', 'VRSK', 'VZ',\n",
       "       'VRTX', 'VTRS', 'VICI', 'V', 'VMC', 'WRB', 'WAB', 'WBA', 'WMT',\n",
       "       'DIS', 'WBD', 'WM', 'WAT', 'WEC', 'WFC', 'WELL', 'WST', 'WDC',\n",
       "       'WRK', 'WY', 'WMB', 'WTW', 'GWW', 'WYNN', 'XEL', 'XYL', 'YUM',\n",
       "       'ZBRA', 'ZBH', 'ZTS'], dtype=object)"
      ]
     },
     "execution_count": 103,
     "metadata": {},
     "output_type": "execute_result"
    }
   ],
   "source": [
    "sp500_adj_df[\"Symbol\"].unique()"
   ]
  },
  {
   "cell_type": "code",
   "execution_count": 104,
   "id": "71568023",
   "metadata": {},
   "outputs": [
    {
     "name": "stdout",
     "output_type": "stream",
     "text": [
      "<class 'pandas.core.frame.DataFrame'>\n",
      "DatetimeIndex: 1226702 entries, 2014-04-01 to 2024-03-28\n",
      "Data columns (total 7 columns):\n",
      " #   Column     Non-Null Count    Dtype  \n",
      "---  ------     --------------    -----  \n",
      " 0   Open       1226702 non-null  float64\n",
      " 1   High       1226702 non-null  float64\n",
      " 2   Low        1226702 non-null  float64\n",
      " 3   Close      1226702 non-null  float64\n",
      " 4   Adj Close  1226702 non-null  float64\n",
      " 5   Volume     1226702 non-null  float64\n",
      " 6   Symbol     1226702 non-null  object \n",
      "dtypes: float64(6), object(1)\n",
      "memory usage: 74.9+ MB\n"
     ]
    }
   ],
   "source": [
    "sp500_adj_df.info()"
   ]
  },
  {
   "cell_type": "markdown",
   "id": "8810cbb9",
   "metadata": {},
   "source": [
    "### GET ECONOMIC INDICATORS"
   ]
  },
  {
   "cell_type": "markdown",
   "id": "c865797f",
   "metadata": {},
   "source": [
    "#### GDP per capita - data returned is quarterly gdp per capita"
   ]
  },
  {
   "cell_type": "code",
   "execution_count": 68,
   "id": "2c1ab351",
   "metadata": {},
   "outputs": [],
   "source": [
    "# using Api key, scrape alphavantage.co GDP per capita data\n",
    "\n",
    "url = 'https://www.alphavantage.co/query?function=REAL_GDP_PER_CAPITA&apikey=06N85DP7BER4MKDB'\n",
    "r = requests.get(url)\n",
    "gdp_data = r.json()"
   ]
  },
  {
   "cell_type": "code",
   "execution_count": 130,
   "id": "5e432a2b",
   "metadata": {},
   "outputs": [],
   "source": [
    "gdp_per_capita = pd.DataFrame(gdp_data['data']) # Create dataframe from json object\n",
    "gdp_per_capita['value'] = gdp_per_capita['value'].astype(float) \n",
    "gdp_per_capita.set_index('date', inplace =True) # Set datetime as index\n",
    "gdp_per_capita.rename(columns={'value': 'gdp'}, inplace=True) # Rename 'value' to 'gdp'\n",
    "gdp_per_capita = gdp_per_capita.sort_index() # Sort dataframe from oldest to newest"
   ]
  },
  {
   "cell_type": "code",
   "execution_count": 129,
   "id": "a9e2cc64",
   "metadata": {},
   "outputs": [
    {
     "name": "stdout",
     "output_type": "stream",
     "text": [
      "<class 'pandas.core.frame.DataFrame'>\n",
      "Index: 309 entries, 1947-01-01 to 2024-01-01\n",
      "Data columns (total 1 columns):\n",
      " #   Column  Non-Null Count  Dtype  \n",
      "---  ------  --------------  -----  \n",
      " 0   gdp     309 non-null    float64\n",
      "dtypes: float64(1)\n",
      "memory usage: 12.9+ KB\n"
     ]
    }
   ],
   "source": [
    "gdp_per_capita.info()"
   ]
  },
  {
   "cell_type": "code",
   "execution_count": 126,
   "id": "98938210",
   "metadata": {},
   "outputs": [],
   "source": [
    "# Subset data frame to the last 10 years \n",
    "\n",
    "gdp_df = gdp_per_capita.loc['2014-01-01':'2024-03-31']"
   ]
  },
  {
   "cell_type": "code",
   "execution_count": 128,
   "id": "ab733f45",
   "metadata": {},
   "outputs": [],
   "source": [
    "# Save as csv to share with team \n",
    "\n",
    "gdp_df.to_csv('gdp_df.csv', index=True)"
   ]
  },
  {
   "cell_type": "markdown",
   "id": "d6ea4ea6",
   "metadata": {},
   "source": [
    "#### Inflation - data returned is annual inflation rate"
   ]
  },
  {
   "cell_type": "code",
   "execution_count": 72,
   "id": "890ce3de",
   "metadata": {},
   "outputs": [],
   "source": [
    "# using Api key, scrape alphavantage.co inflation data\n",
    "\n",
    "url = 'https://www.alphavantage.co/query?function=INFLATION&apikey=06N85DP7BER4MKDB'\n",
    "r = requests.get(url)\n",
    "inflation_data = r.json()"
   ]
  },
  {
   "cell_type": "code",
   "execution_count": 132,
   "id": "d07b10fd",
   "metadata": {},
   "outputs": [],
   "source": [
    "inflation = pd.DataFrame(inflation_data['data']) # Create dataframe from json object\n",
    "inflation['value'] = inflation['value'].astype(float)\n",
    "inflation.set_index('date', inplace =True) # Set datetime as index\n",
    "inflation.rename(columns={'value': 'inflation'}, inplace=True) # Rename 'value' to 'inflation'\n",
    "inflation = inflation.sort_index() # Sort dataframe from oldest to newest"
   ]
  },
  {
   "cell_type": "code",
   "execution_count": 133,
   "id": "fc09e456",
   "metadata": {},
   "outputs": [
    {
     "name": "stdout",
     "output_type": "stream",
     "text": [
      "<class 'pandas.core.frame.DataFrame'>\n",
      "Index: 63 entries, 1960-01-01 to 2022-01-01\n",
      "Data columns (total 1 columns):\n",
      " #   Column     Non-Null Count  Dtype  \n",
      "---  ------     --------------  -----  \n",
      " 0   inflation  63 non-null     float64\n",
      "dtypes: float64(1)\n",
      "memory usage: 1008.0+ bytes\n"
     ]
    }
   ],
   "source": [
    "inflation.info()"
   ]
  },
  {
   "cell_type": "code",
   "execution_count": 134,
   "id": "d82b49cd",
   "metadata": {},
   "outputs": [],
   "source": [
    "# Subset data frame to the last 10 years \n",
    "\n",
    "inflation_df = inflation.loc['2014-01-01':'2024-03-31']"
   ]
  },
  {
   "cell_type": "code",
   "execution_count": 137,
   "id": "502809d7",
   "metadata": {},
   "outputs": [],
   "source": [
    "# Save as csv to share with team \n",
    "\n",
    "inflation_df.to_csv('inflation_df.csv', index=True)"
   ]
  },
  {
   "cell_type": "markdown",
   "id": "8b0de673",
   "metadata": {},
   "source": [
    "#### Unemployment Rate - data returned is monthly unemployment data"
   ]
  },
  {
   "cell_type": "code",
   "execution_count": 91,
   "id": "ef206a9e",
   "metadata": {},
   "outputs": [],
   "source": [
    "# using Api key, scrape alphavantage.co unemployment rate data\n",
    "\n",
    "url = 'https://www.alphavantage.co/query?function=UNEMPLOYMENT&apikey=06N85DP7BER4MKDB'\n",
    "r = requests.get(url)\n",
    "unemployment_data = r.json()"
   ]
  },
  {
   "cell_type": "code",
   "execution_count": 138,
   "id": "b47ee32b",
   "metadata": {},
   "outputs": [],
   "source": [
    "# unemployment = pd.DataFrame(unemployment_data['data']) # Create dataframe from json object\n",
    "# unemployment['value'] = unemployment['value'].astype(float)\n",
    "# unemployment.set_index('date', inplace =True) # Set datetime as index\n",
    "# unemployment.rename(columns={'value': 'unemployment'}, inplace=True) # Rename 'value' to 'unemployment'\n",
    "unemployment = unemployment.sort_index() # Sort dataframe from oldest to newest"
   ]
  },
  {
   "cell_type": "code",
   "execution_count": 140,
   "id": "146d17cd",
   "metadata": {},
   "outputs": [
    {
     "name": "stdout",
     "output_type": "stream",
     "text": [
      "<class 'pandas.core.frame.DataFrame'>\n",
      "Index: 916 entries, 1948-01-01 to 2024-04-01\n",
      "Data columns (total 1 columns):\n",
      " #   Column        Non-Null Count  Dtype  \n",
      "---  ------        --------------  -----  \n",
      " 0   unemployment  916 non-null    float64\n",
      "dtypes: float64(1)\n",
      "memory usage: 14.3+ KB\n"
     ]
    }
   ],
   "source": [
    "unemployment.info()"
   ]
  },
  {
   "cell_type": "code",
   "execution_count": 141,
   "id": "f617519e",
   "metadata": {},
   "outputs": [],
   "source": [
    "# Subset data frame to the last 10 years \n",
    "\n",
    "unemployment_df = unemployment.loc['2014-01-01':'2024-03-31']"
   ]
  },
  {
   "cell_type": "code",
   "execution_count": 145,
   "id": "c4d4a4b8",
   "metadata": {},
   "outputs": [],
   "source": [
    "# Save as csv to share with team \n",
    "\n",
    "unemployment_df.to_csv('unemployment_df.csv', index=True)"
   ]
  },
  {
   "cell_type": "markdown",
   "id": "95155360",
   "metadata": {},
   "source": [
    "#### UNUSED CODE, but may need later"
   ]
  },
  {
   "cell_type": "code",
   "execution_count": 2,
   "id": "fc4616e7",
   "metadata": {},
   "outputs": [],
   "source": [
    "# GETTING TICKER DATA FROM CACHE:\n",
    "# session = requests_cache.CachedSession('yfinance.cache')\n",
    "# session.headers['User-agent'] = 'my-program/1.0'\n",
    "# ticker = yf.Ticker('msft', session=session)\n",
    "# # The scraped response will be stored in the cache\n",
    "# ticker.actions\n",
    "\n",
    "# READ ORIGINAL .CSV OF SCRAPED DATA WITHOUT ADJUSTED CLOSING PRICE: \n",
    "# sp500_df = pd.read_csv(\"/Users/rosario/Code/CodeOp/Group-Project/sp500_history.csv\")\n",
    "\n",
    "# PIVOT DATAFRAME \"SYMBOLS\" AS FEATURES: \n",
    "# def create_new_dataframe(df):\n",
    "#     # Reset the index if 'date' is set as the index\n",
    "#     if 'Date' not in df.columns:\n",
    "#         df.reset_index(inplace=True)\n",
    "    \n",
    "#     # Pivot the DataFrame\n",
    "#     new_df = df.pivot(index='Date', columns='Symbol', values='Close')\n",
    "    \n",
    "#     return new_df"
   ]
  }
 ],
 "metadata": {
  "kernelspec": {
   "display_name": "Python 3 (ipykernel)",
   "language": "python",
   "name": "python3"
  },
  "language_info": {
   "codemirror_mode": {
    "name": "ipython",
    "version": 3
   },
   "file_extension": ".py",
   "mimetype": "text/x-python",
   "name": "python",
   "nbconvert_exporter": "python",
   "pygments_lexer": "ipython3",
   "version": "3.11.5"
  }
 },
 "nbformat": 4,
 "nbformat_minor": 5
}
